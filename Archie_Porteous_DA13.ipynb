{
 "cells": [
  {
   "cell_type": "markdown",
   "id": "0376873e-84d6-4d70-8773-43a89668a21b",
   "metadata": {},
   "source": [
    "# <u>TMDB Dataset</u>\n",
    "  ### *An Initial Look: Exploratory Data Analysis and some key insights*\n",
    "> Archie Porteous DA13"
   ]
  },
  {
   "cell_type": "markdown",
   "id": "7241e9a6-8420-42fc-a649-3ac01ccd5e8f",
   "metadata": {
    "jp-MarkdownHeadingCollapsed": true
   },
   "source": [
    "### <u>Contents</u> \n",
    "### **1.** Importing the dataset    \n",
    " * **1.1** Importing the csv from a local path into a Pandas DataFrame     \n",
    " * **1.2** Quick Look using `.describe()` & `.head()`      "
   ]
  },
  {
   "cell_type": "markdown",
   "id": "4e4d54da-77bd-4bf8-aeec-b53a76f9b822",
   "metadata": {},
   "source": [
    "### **2.** Data Cleaning  \n",
    " * **2.1** Refromatting the '*genre*', '*keywords*', etc.. columns  \n",
    " * **2.2** Checking for nulls\n",
    " * **2.3** Deduplicating Rows"
   ]
  },
  {
   "cell_type": "markdown",
   "id": "9dad4f29-2ed6-4d8a-ba0e-8655e1ed6017",
   "metadata": {},
   "source": [
    "### **3.** Exploratory Insights/Keypoints\n",
    " *  **3.1** Budget Efficiency (revenue/dollar)\n",
    " *  **3.2** What Catergories do Voters like?"
   ]
  },
  {
   "cell_type": "markdown",
   "id": "154c118d-4165-4c49-abcb-e4809b93875d",
   "metadata": {},
   "source": [
    "<img src = \"https://images.unsplash.com/photo-1542204165-65bf26472b9b?q=80&w=1374&auto=format&fit=crop&ixlib=rb-4.1.0&ixid=M3wxMjA3fDB8MHxwaG90by1wYWdlfHx8fGVufDB8fHx8fA%3D%3D\" width=400px height=300px />"
   ]
  },
  {
   "cell_type": "markdown",
   "id": "029d52fe-f08e-4f2f-a149-613a70b1ae68",
   "metadata": {
    "jp-MarkdownHeadingCollapsed": true
   },
   "source": [
    "# **1.** Importing the dataset"
   ]
  },
  {
   "cell_type": "markdown",
   "id": "52e9e585-1785-4a79-83e8-86c7e8ae869c",
   "metadata": {
    "jp-MarkdownHeadingCollapsed": true
   },
   "source": [
    "### **1.1** Importing the csv from a local path into a Pandas DataFrame"
   ]
  },
  {
   "cell_type": "code",
   "execution_count": null,
   "id": "99797cb1-e2e6-4b65-9b7a-a9160ad1b3d8",
   "metadata": {},
   "outputs": [],
   "source": [
    "# Importing Required Libraries\n",
    "import numpy as np  # maths\n",
    "import seaborn as sns # visualisation\n",
    "import matplotlib.pyplot as plt # visualisation\n",
    "import pandas as pd # dataframes & data analysis\n",
    "import re # RegEx"
   ]
  },
  {
   "cell_type": "code",
   "execution_count": null,
   "id": "0e954065-3a3f-49af-a3d7-14b4f20c3484",
   "metadata": {},
   "outputs": [],
   "source": [
    "path = \"TMDB_movies.csv\"\n",
    "\n",
    "df = pd.read_csv(path)"
   ]
  },
  {
   "cell_type": "markdown",
   "id": "4d04db71-155b-4b13-af3f-d6870e254b81",
   "metadata": {
    "jp-MarkdownHeadingCollapsed": true
   },
   "source": [
    "### **1.2** Quick Look using `.describe()` & `.head()`"
   ]
  },
  {
   "cell_type": "code",
   "execution_count": null,
   "id": "f572d8d7-0863-428e-a09e-3897adc60ac8",
   "metadata": {},
   "outputs": [],
   "source": [
    "df.shape"
   ]
  },
  {
   "cell_type": "code",
   "execution_count": null,
   "id": "d4e463ab-d35d-481b-8b03-ae60610c1a79",
   "metadata": {
    "scrolled": true
   },
   "outputs": [],
   "source": [
    "df.describe(include=\"all\")"
   ]
  },
  {
   "cell_type": "code",
   "execution_count": null,
   "id": "eaab050a-667a-4a62-ab6f-656a8f19cef5",
   "metadata": {
    "scrolled": true
   },
   "outputs": [],
   "source": [
    "df.head()"
   ]
  },
  {
   "cell_type": "markdown",
   "id": "ce6dcf9b-c4cb-4aa5-bed6-daaa45d247f2",
   "metadata": {
    "jp-MarkdownHeadingCollapsed": true
   },
   "source": [
    "# **2.** Data Cleaning "
   ]
  },
  {
   "cell_type": "markdown",
   "id": "5c77410c-8757-4efc-b840-10c36729d016",
   "metadata": {
    "jp-MarkdownHeadingCollapsed": true
   },
   "source": [
    "### **2.1** Refromatting the '*genre*', '*keywords*', etc.. columns"
   ]
  },
  {
   "cell_type": "code",
   "execution_count": null,
   "id": "e6f83335-2e7c-43a2-bc14-d468787d908b",
   "metadata": {},
   "outputs": [],
   "source": [
    "df.spoken_languages[0]"
   ]
  },
  {
   "cell_type": "code",
   "execution_count": null,
   "id": "7d41aa9c-cf5c-41f2-8d95-e4f9ebff313c",
   "metadata": {},
   "outputs": [],
   "source": [
    "def clean_str(string):\n",
    "    return re.findall(\"\\\"name\\\":\\s\\\"([^}{\\\"]+)\\\"\",string)"
   ]
  },
  {
   "cell_type": "code",
   "execution_count": null,
   "id": "114ae046-682a-4e65-be90-4fec235a043c",
   "metadata": {},
   "outputs": [],
   "source": [
    "clean_str('[{\"id\": 28, \"name\": \"Action\"},{\"id\": 60, \"name\": \"Adventure\"},{\"name\": \"Ingenious Film Partners\", \"id\": 289},{\"iso_3166_1\": \"US\", \"name\": \"United States of America\"},{\"iso_639_1\": \"en\", \"name\": \"English\"}]')"
   ]
  },
  {
   "cell_type": "code",
   "execution_count": null,
   "id": "aaff0aeb-163a-4c9d-aee9-38f3f2600e4a",
   "metadata": {},
   "outputs": [],
   "source": [
    "df_eda = df.copy()"
   ]
  },
  {
   "cell_type": "code",
   "execution_count": null,
   "id": "5487f4b9-2aaa-405a-86cf-043999c82531",
   "metadata": {},
   "outputs": [],
   "source": [
    "for column in ['genres','keywords','production_companies','production_countries','spoken_languages']:\n",
    "    df_eda[column] = df_eda[column].apply(clean_str)"
   ]
  },
  {
   "cell_type": "code",
   "execution_count": null,
   "id": "09f3ac84-ace3-481d-8bc3-d0fed2e10a00",
   "metadata": {},
   "outputs": [],
   "source": [
    "df_eda.head()"
   ]
  },
  {
   "cell_type": "markdown",
   "id": "e2a020d3-2f7c-4433-b214-3553f234b216",
   "metadata": {
    "jp-MarkdownHeadingCollapsed": true
   },
   "source": [
    "### **2.2** Checking for nulls"
   ]
  },
  {
   "cell_type": "code",
   "execution_count": null,
   "id": "daa1da56-cde9-421a-b42c-4a652dd67749",
   "metadata": {},
   "outputs": [],
   "source": [
    "# counting nulls\n",
    "null_df = df_eda.isnull() # truth table\n",
    "null_df.sum()"
   ]
  },
  {
   "cell_type": "markdown",
   "id": "d4096c77-1df8-45b9-b60f-971cb9495c1a",
   "metadata": {
    "jp-MarkdownHeadingCollapsed": true
   },
   "source": [
    "### **2.3** Checking for Duplicates"
   ]
  },
  {
   "cell_type": "code",
   "execution_count": null,
   "id": "23d4e9d8-8020-4c8b-8222-47387bdef131",
   "metadata": {},
   "outputs": [],
   "source": [
    "unique_id = set(df_eda.id)\n",
    "len(unique_id)"
   ]
  },
  {
   "cell_type": "markdown",
   "id": "0f6c468e-bb0e-45e1-b6c7-fd7682e08595",
   "metadata": {
    "jp-MarkdownHeadingCollapsed": true
   },
   "source": [
    "# **3.** Exploratory Insights/Keypoints"
   ]
  },
  {
   "cell_type": "markdown",
   "id": "0bebee25-5566-4149-960f-6d4c9fa3d044",
   "metadata": {
    "jp-MarkdownHeadingCollapsed": true
   },
   "source": [
    "## **3.1** Budget Efficiency (revenue/dollar)"
   ]
  },
  {
   "cell_type": "markdown",
   "id": "90b60054-d02d-4856-b5ea-6871c87f35bc",
   "metadata": {},
   "source": [
    "### Top 10 Films by Budget"
   ]
  },
  {
   "cell_type": "code",
   "execution_count": null,
   "id": "28bbd556-45ba-4f38-919f-1cff8d2ec7fa",
   "metadata": {},
   "outputs": [],
   "source": [
    "top_10_budget = df_eda.sort_values('budget',ascending=False)[['budget', 'title']].head(10)\n",
    "top_10_budget"
   ]
  },
  {
   "cell_type": "code",
   "execution_count": null,
   "id": "7a6c86b5-53e9-4d83-9f61-1031080c4c56",
   "metadata": {},
   "outputs": [],
   "source": [
    "sns.barplot(x='title',\n",
    "            y='budget',\n",
    "            data=top_10_budget,\n",
    "            palette = 'magma')\n",
    "\n",
    "\n",
    "plt.xticks(rotation=45,\n",
    "           horizontalalignment='right',\n",
    "           fontweight ='light',\n",
    "           fontsize ='large'\n",
    "           )\n",
    "\n",
    "plt.title('Top 10 Budgets')\n",
    "\n",
    "plt.show()"
   ]
  },
  {
   "cell_type": "markdown",
   "id": "26150803-38dc-4aa6-a994-080e6adedf21",
   "metadata": {},
   "source": [
    "> ### Conclusion:\n",
    "> *Pirates of the Caribbean: On Stranger Tides* is the film with the most expensive budget in our dataset. This is due to its many filming locations and extensive use of state-of-the-art visual effects"
   ]
  },
  {
   "cell_type": "markdown",
   "id": "33c4e21e-1fcb-428b-9106-8694fc24bcbd",
   "metadata": {},
   "source": [
    "### Top 10 Films by Revenue"
   ]
  },
  {
   "cell_type": "code",
   "execution_count": null,
   "id": "b218a454-d592-452f-88f2-33d4564ff4d0",
   "metadata": {},
   "outputs": [],
   "source": [
    "top_10_revenue = df_eda.sort_values('revenue',ascending=False)[['revenue', 'title']].head(10)\n",
    "top_10_revenue"
   ]
  },
  {
   "cell_type": "code",
   "execution_count": null,
   "id": "8e49d811-1779-4a03-9726-cc3c48ec8649",
   "metadata": {},
   "outputs": [],
   "source": [
    "sns.barplot(x='title',\n",
    "            y='revenue',\n",
    "            data=top_10_revenue,\n",
    "            palette = 'Greens_r')\n",
    "\n",
    "\n",
    "plt.xticks(rotation=45,\n",
    "           horizontalalignment='right',\n",
    "           fontweight ='light',\n",
    "           fontsize ='large'\n",
    "           )\n",
    "\n",
    "plt.title('Top 10 Revenues')\n",
    "\n",
    "plt.show()"
   ]
  },
  {
   "cell_type": "markdown",
   "id": "aae5498e-bd1b-48b0-8217-4cbc410caddf",
   "metadata": {},
   "source": [
    "> ### Conclusion:\n",
    "> *Avatar* was the highest grossing film in our dataset. Avatar had a captivating story and amazing visuals."
   ]
  },
  {
   "cell_type": "markdown",
   "id": "27444d18-8b06-4d08-8c62-858cec786945",
   "metadata": {},
   "source": [
    "### **Top 10 Films by Revenue per Dollar Budget**"
   ]
  },
  {
   "cell_type": "code",
   "execution_count": null,
   "id": "c45f8f9d-e2bf-424a-9ca7-7062b9b7901f",
   "metadata": {},
   "outputs": [],
   "source": [
    "print(df_eda[df_eda.budget==0].shape[0])\n",
    "print(df_eda[df_eda.revenue==0].shape[0])"
   ]
  },
  {
   "cell_type": "code",
   "execution_count": null,
   "id": "a64cbb62-2691-45f5-8cac-c5c4b259c7de",
   "metadata": {},
   "outputs": [],
   "source": [
    "df_eda[df_eda.budget==0].index"
   ]
  },
  {
   "cell_type": "code",
   "execution_count": null,
   "id": "516b78cb-e7e0-43e9-9ad2-763f81e82e62",
   "metadata": {},
   "outputs": [],
   "source": [
    "df_zeros = df_eda.copy()\n",
    "df_zeros.drop(index=df_zeros[df_eda.budget==0].index, inplace=True)\n",
    "df_zeros.drop(index=df_zeros[df_eda.revenue==0].index, inplace=True)\n"
   ]
  },
  {
   "cell_type": "code",
   "execution_count": null,
   "id": "2d96ef4d-20cc-49dc-8ad0-85e46949ae94",
   "metadata": {},
   "outputs": [],
   "source": [
    "df_zeros['rev_bud'] = df_zeros['revenue']/df_zeros['budget']\n",
    "top_10_efficiency = df_zeros.sort_values('rev_bud',ascending=False)[['rev_bud', 'title']].head(10)\n",
    "top_10_efficiency"
   ]
  },
  {
   "cell_type": "code",
   "execution_count": null,
   "id": "1e071e8c-13b4-4f42-883a-5a11bef4f1b7",
   "metadata": {},
   "outputs": [],
   "source": [
    "sns.barplot(x='title',\n",
    "            y='rev_bud',\n",
    "            data=top_10_efficiency,\n",
    "            palette = 'PuRd_r')\n",
    "\n",
    "\n",
    "plt.xticks(rotation=45,\n",
    "           horizontalalignment='right',\n",
    "           fontweight ='light',\n",
    "           fontsize ='large'\n",
    "           )\n",
    "\n",
    "plt.title('Top 10 Revenue/Budget')\n",
    "\n",
    "plt.yscale('log')\n",
    "plt.show()"
   ]
  },
  {
   "cell_type": "markdown",
   "id": "21e69d3c-3c67-43cd-b44a-5d71df50dde8",
   "metadata": {},
   "source": [
    "> ### Conclusion:\n",
    "> *Modern Times* was one of the American Film Institutes Top 100 Films in 1998 and was first shown in theatres in 1936. This longevity could is a likely factor to its great success. But it is also worth taking into considereation that the dollars in the dataset are not said to be adjusted for inflation!\n",
    "> *Paranormal Activity* is another interesting example shown in the graph above. It had a budget of a mere $15000 and was shot over just 10 days. It had basic scenes with static camera angles and the script was only made of rough guidlines for the actors."
   ]
  },
  {
   "cell_type": "code",
   "execution_count": null,
   "id": "0a09791a-4e5e-43d2-837c-ead038f59928",
   "metadata": {},
   "outputs": [],
   "source": [
    "df_zeros[df_zeros['title']==\"Paranormal Activity\"]['budget']"
   ]
  },
  {
   "cell_type": "markdown",
   "id": "f044394d-f63b-4516-893d-6df9b5e80c96",
   "metadata": {},
   "source": [
    "## **3.2** What Catergories do Voters like?"
   ]
  },
  {
   "cell_type": "code",
   "execution_count": null,
   "id": "f5fe585b-a5c0-43ca-8061-92daa98f83d6",
   "metadata": {},
   "outputs": [],
   "source": []
  }
 ],
 "metadata": {
  "kernelspec": {
   "display_name": "Python [conda env:base] *",
   "language": "python",
   "name": "conda-base-py"
  },
  "language_info": {
   "codemirror_mode": {
    "name": "ipython",
    "version": 3
   },
   "file_extension": ".py",
   "mimetype": "text/x-python",
   "name": "python",
   "nbconvert_exporter": "python",
   "pygments_lexer": "ipython3",
   "version": "3.12.7"
  }
 },
 "nbformat": 4,
 "nbformat_minor": 5
}
